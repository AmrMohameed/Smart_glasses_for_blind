{
 "cells": [
  {
   "cell_type": "code",
   "execution_count": null,
   "metadata": {},
   "outputs": [],
   "source": [
    "from PIL import Image\n",
    "import face_recognition\n",
    "from IPython.display import display\n",
    "# Load the jpg file into a numpy array\n",
    "image = face_recognition.load_image_file(\"35686948_2010940409222504_8292923842406383616_n.jpg\")\n",
    "unkown_image = face_recognition.load_image_file(\"48357921_525266544655016_5182188839342440448_n.jpg\")\n",
    "\n",
    "# Find all the faces in the image using a pre-trained convolutional neural network.\n",
    "# This method is more accurate than the default HOG model, but it's slower\n",
    "# unless you have an nvidia GPU and dlib compiled with CUDA extensions. But if you do,\n",
    "# this will use GPU acceleration and perform well.\n",
    "# See also: find_faces_in_picture.py\n",
    "face_locations = face_recognition.face_locations(image, number_of_times_to_upsample=0, model=\"cnn\")\n",
    "unkown_face_locations = face_recognition.face_locations(unkown_image, number_of_times_to_upsample=0, model=\"cnn\")\n",
    "\n",
    "print(\"I found {} face(s) in this photograph.\".format(len(face_locations)))\n",
    "image_encoding = face_recognition.face_encodings(image,face_locations)[0]\n",
    "unkown_images_encoding = face_recognition.face_encodings(unkown_image,unkown_face_locations)\n",
    "for un_im in unkown_images_encoding:\n",
    "    results = face_recognition.compare_faces([image_encoding], un_im)\n",
    "    print(results)\n",
    "    # Print the location of each face in this image\n",
    "#     top, right, bottom, left = face_location\n",
    "#     print(\"A face is located at pixel location Top: {}, Left: {}, Bottom: {}, Right: {}\".format(top, left, bottom, right))\n",
    "\n",
    "    # You can access the actual face itself like this:\n",
    "#     face_image = image[top:bottom, left:right]\n",
    "#     pil_image = Image.fromarray(face_image)\n",
    "#     display(pil_image)"
   ]
  },
  {
   "cell_type": "code",
   "execution_count": null,
   "metadata": {},
   "outputs": [],
   "source": [
    "dlib.DLIB_USE_CUDA"
   ]
  }
 ],
 "metadata": {
  "kernelspec": {
   "display_name": "Python 3",
   "language": "python",
   "name": "python3"
  },
  "language_info": {
   "codemirror_mode": {
    "name": "ipython",
    "version": 3
   },
   "file_extension": ".py",
   "mimetype": "text/x-python",
   "name": "python",
   "nbconvert_exporter": "python",
   "pygments_lexer": "ipython3",
   "version": "3.5.2"
  }
 },
 "nbformat": 4,
 "nbformat_minor": 2
}
